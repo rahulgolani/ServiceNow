{
 "cells": [
  {
   "cell_type": "code",
   "execution_count": 2,
   "metadata": {},
   "outputs": [],
   "source": [
    "# ServiceNow"
   ]
  },
  {
   "cell_type": "markdown",
   "metadata": {},
   "source": [
    "ServiceNow is a cloud-based company that provides software as a service (SaaS) for technical management support. The company specializes in IT services management (ITSM), Security Operations(SecOps), IT operations management (ITOM) and IT business management (ITBM),"
   ]
  },
  {
   "cell_type": "code",
   "execution_count": 3,
   "metadata": {},
   "outputs": [],
   "source": [
    "# What do you mean by the term “Application” in ServiceNow?"
   ]
  },
  {
   "cell_type": "markdown",
   "metadata": {},
   "source": [
    "Application is a group of modules that provides related information. For example, a change application provides information related to the change process. It consists of modules like create change tickets, view change tickets, etc."
   ]
  },
  {
   "cell_type": "code",
   "execution_count": 4,
   "metadata": {},
   "outputs": [],
   "source": [
    "# What is a Module"
   ]
  },
  {
   "cell_type": "markdown",
   "metadata": {},
   "source": [
    "Modules are the children, or the second tier navigation options to the applications in the application navigator. Modules often link to other pages or records in the platform. You can configure which modules appear in the application navigator using Application Menus module."
   ]
  },
  {
   "cell_type": "code",
   "execution_count": 5,
   "metadata": {},
   "outputs": [],
   "source": [
    "# What is the latest ServiceNow user interface and when it was released?"
   ]
  },
  {
   "cell_type": "markdown",
   "metadata": {},
   "source": [
    "The latest user interface is the UI14 interface. It came in Eureka release"
   ]
  },
  {
   "cell_type": "markdown",
   "metadata": {},
   "source": [
    "# What is the full form of CMDB?"
   ]
  },
  {
   "cell_type": "markdown",
   "metadata": {},
   "source": [
    "Configuration Management Database\n",
    "\n"
   ]
  },
  {
   "cell_type": "code",
   "execution_count": 6,
   "metadata": {},
   "outputs": [],
   "source": [
    "# What is the CMDB Baseline?"
   ]
  },
  {
   "cell_type": "markdown",
   "metadata": {},
   "source": [
    "CMDB baselines help to understand and control the changes that have been made to a configuration item(CI) after its Baseline has been created. The baseline is the snapshot of a CI"
   ]
  },
  {
   "cell_type": "code",
   "execution_count": 7,
   "metadata": {},
   "outputs": [],
   "source": [
    "# How to enable or disable an application?"
   ]
  },
  {
   "cell_type": "markdown",
   "metadata": {},
   "source": [
    "Navigate to the “Application Menus” module under the system definition application. Open the respective application that requires to enable or disable. Set active as true to enable it or set active to false to disable it"
   ]
  },
  {
   "cell_type": "code",
   "execution_count": 8,
   "metadata": {},
   "outputs": [],
   "source": [
    "# What is a view?"
   ]
  },
  {
   "cell_type": "markdown",
   "metadata": {},
   "source": [
    "The view defines the arrangement of fields on a form or a list. For one single form, we can define multiple views according to the user preferences or requirements."
   ]
  },
  {
   "cell_type": "code",
   "execution_count": 9,
   "metadata": {},
   "outputs": [],
   "source": [
    "# What is the ACL?"
   ]
  },
  {
   "cell_type": "markdown",
   "metadata": {},
   "source": [
    "An ACL is an access control list that defines what data a user can access and how they can access it in service now."
   ]
  },
  {
   "cell_type": "code",
   "execution_count": 10,
   "metadata": {},
   "outputs": [],
   "source": [
    "# What do you mean by impersonating a user? How it is useful?"
   ]
  },
  {
   "cell_type": "markdown",
   "metadata": {},
   "source": [
    "Impersonating a user means that you can log in to the system as that user and can have felt how the service-now UI is set for that user. This is very useful while testing. For example, if you are required to test that a user can access the change form or not. You can impersonate that user and can test instead of logging out from your session and logging in again with that user's credentials."
   ]
  },
  {
   "cell_type": "code",
   "execution_count": 11,
   "metadata": {},
   "outputs": [],
   "source": [
    "# Which are the Parent table for the incident, change, and problem?"
   ]
  },
  {
   "cell_type": "markdown",
   "metadata": {},
   "source": [
    "Task table"
   ]
  },
  {
   "cell_type": "code",
   "execution_count": 12,
   "metadata": {},
   "outputs": [],
   "source": [
    "# What is a record producer?"
   ]
  },
  {
   "cell_type": "markdown",
   "metadata": {},
   "source": [
    "A record producer is a type of a catalog item that allows users to create task-based records from the service catalog. For example, you can create a change record or problem record using a record producer. Record producers provide an alternative way to create records through the service catalog"
   ]
  },
  {
   "cell_type": "code",
   "execution_count": 13,
   "metadata": {},
   "outputs": [],
   "source": [
    "# What is a dictionary override?"
   ]
  },
  {
   "cell_type": "markdown",
   "metadata": {},
   "source": [
    "Dictionary Overrides provides the capability to override several properties of a field in an extended table. For example, a changing table is extended from the task table. There is a field named status in the task table and set as read-only. When we use this field in change form it will show be read-only. We can set this to non-read only by using the dictionary override. Similarly, there are other properties that can be set for the fields in an extended table."
   ]
  },
  {
   "cell_type": "code",
   "execution_count": null,
   "metadata": {},
   "outputs": [],
   "source": []
  }
 ],
 "metadata": {
  "kernelspec": {
   "display_name": "Python 3",
   "language": "python",
   "name": "python3"
  },
  "language_info": {
   "codemirror_mode": {
    "name": "ipython",
    "version": 3
   },
   "file_extension": ".py",
   "mimetype": "text/x-python",
   "name": "python",
   "nbconvert_exporter": "python",
   "pygments_lexer": "ipython3",
   "version": "3.7.6"
  }
 },
 "nbformat": 4,
 "nbformat_minor": 4
}
