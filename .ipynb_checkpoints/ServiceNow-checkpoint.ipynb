{
 "cells": [
  {
   "cell_type": "markdown",
   "metadata": {},
   "source": [
    "# ServiceNow"
   ]
  },
  {
   "cell_type": "markdown",
   "metadata": {},
   "source": [
    "ServiceNow is a cloud-based company that provides software as a service (SaaS) for technical management support. The company specializes in IT services management (ITSM), Security Operations(SecOps), IT operations management (ITOM) and IT business management (ITBM),"
   ]
  },
  {
   "cell_type": "markdown",
   "metadata": {},
   "source": [
    "# What do you mean by the term “Application” in ServiceNow?"
   ]
  },
  {
   "cell_type": "markdown",
   "metadata": {},
   "source": [
    "Application is a group of modules that provides related information. For example, a change application provides information related to the change process. It consists of modules like create change tickets, view change tickets, etc."
   ]
  },
  {
   "cell_type": "markdown",
   "metadata": {},
   "source": [
    "# What is a Module"
   ]
  },
  {
   "cell_type": "markdown",
   "metadata": {},
   "source": [
    "Modules are the children, or the second tier navigation options to the applications in the application navigator. Modules often link to other pages or records in the platform. You can configure which modules appear in the application navigator using Application Menus module."
   ]
  },
  {
   "cell_type": "markdown",
   "metadata": {},
   "source": [
    "# What is the latest ServiceNow user interface and when it was released?"
   ]
  },
  {
   "cell_type": "markdown",
   "metadata": {},
   "source": [
    "The latest user interface is the UI14 interface. It came in Eureka release"
   ]
  },
  {
   "cell_type": "markdown",
   "metadata": {},
   "source": [
    "# What is the full form of CMDB?"
   ]
  },
  {
   "cell_type": "markdown",
   "metadata": {},
   "source": [
    "Configuration Management Database\n",
    "\n"
   ]
  },
  {
   "cell_type": "markdown",
   "metadata": {},
   "source": [
    "# What is the CMDB Baseline?"
   ]
  },
  {
   "cell_type": "markdown",
   "metadata": {},
   "source": [
    "CMDB baselines help to understand and control the changes that have been made to a configuration item(CI) after its Baseline has been created. The baseline is the snapshot of a CI"
   ]
  },
  {
   "cell_type": "markdown",
   "metadata": {},
   "source": [
    "# How to enable or disable an application?"
   ]
  },
  {
   "cell_type": "markdown",
   "metadata": {},
   "source": [
    "Navigate to the “Application Menus” module under the system definition application. Open the respective application that requires to enable or disable. Set active as true to enable it or set active to false to disable it"
   ]
  },
  {
   "cell_type": "markdown",
   "metadata": {},
   "source": [
    "# What is a view?"
   ]
  },
  {
   "cell_type": "markdown",
   "metadata": {},
   "source": [
    "The view defines the arrangement of fields on a form or a list. For one single form, we can define multiple views according to the user preferences or requirements."
   ]
  },
  {
   "cell_type": "markdown",
   "metadata": {},
   "source": [
    "# What is the ACL?"
   ]
  },
  {
   "cell_type": "markdown",
   "metadata": {},
   "source": [
    "An ACL is an access control list that defines what data a user can access and how they can access it in service now."
   ]
  },
  {
   "cell_type": "markdown",
   "metadata": {},
   "source": [
    "# What do you mean by impersonating a user? How it is useful?"
   ]
  },
  {
   "cell_type": "markdown",
   "metadata": {},
   "source": [
    "Impersonating a user means that you can log in to the system as that user and can have felt how the service-now UI is set for that user. This is very useful while testing. For example, if you are required to test that a user can access the change form or not. You can impersonate that user and can test instead of logging out from your session and logging in again with that user's credentials."
   ]
  },
  {
   "cell_type": "markdown",
   "metadata": {},
   "source": [
    "# Which are the Parent table for the incident, change, and problem?"
   ]
  },
  {
   "cell_type": "markdown",
   "metadata": {},
   "source": [
    "Task table"
   ]
  },
  {
   "cell_type": "markdown",
   "metadata": {},
   "source": [
    "# What is a record producer?"
   ]
  },
  {
   "cell_type": "markdown",
   "metadata": {},
   "source": [
    "A record producer is a type of a catalog item that allows users to create task-based records from the service catalog. For example, you can create a change record or problem record using a record producer. Record producers provide an alternative way to create records through the service catalog"
   ]
  },
  {
   "cell_type": "markdown",
   "metadata": {},
   "source": [
    "# What is a dictionary override?"
   ]
  },
  {
   "cell_type": "markdown",
   "metadata": {},
   "source": [
    "Dictionary Overrides provides the capability to override several properties of a field in an extended table. For example, a changing table is extended from the task table. There is a field named status in the task table and set as read-only. When we use this field in change form it will show be read-only. We can set this to non-read only by using the dictionary override. Similarly, there are other properties that can be set for the fields in an extended table."
   ]
  },
  {
   "cell_type": "markdown",
   "metadata": {},
   "source": [
    "# What do you mean by coalescing?"
   ]
  },
  {
   "cell_type": "markdown",
   "metadata": {},
   "source": [
    "Coalesce is a property of a field that we use in transform map field mapping. When we set the coalesce as true for a field mapping it signifies that this field will work as a unique key. If a field match is found with the coalesce field, then the existing record will be updated with the imported information in the target table else a new record will be inserted into the target table\n",
    "\n"
   ]
  },
  {
   "cell_type": "markdown",
   "metadata": {},
   "source": [
    "# What is a UI policy?"
   ]
  },
  {
   "cell_type": "markdown",
   "metadata": {},
   "source": [
    "UI policies are alternative to client scripts. It can be used to set a field as mandatory, read-only, and visible on a form. You can also use UI policy for dynamically changing a field on a form."
   ]
  },
  {
   "cell_type": "markdown",
   "metadata": {},
   "source": [
    "# What is a data policy?"
   ]
  },
  {
   "cell_type": "markdown",
   "metadata": {},
   "source": [
    "Data policy checks the mandatory and read-only of a field whenever a record is inserted or updated through a web-service or import set.For example: If a mandatory field in the incoming record (from import set or web-service) is empty then the data policy will not allow inserting that record into the table.\n",
    "\n"
   ]
  },
  {
   "cell_type": "markdown",
   "metadata": {},
   "source": [
    "# What is the difference between UI policy and data policy?"
   ]
  },
  {
   "cell_type": "markdown",
   "metadata": {},
   "source": [
    "UI policy acts when a record is inserted or updated through a ServiceNow UI i.e ServiceNow forms while data policy acts whenever a record is inserted or updated into the database through any means."
   ]
  },
  {
   "cell_type": "markdown",
   "metadata": {},
   "source": [
    "# What is a client script?"
   ]
  },
  {
   "cell_type": "markdown",
   "metadata": {},
   "source": [
    "Client script sits on the client-side(the browser) and run there only.types of client script are OnLoad() OnSubmit() OnChange() OncellEdit()"
   ]
  },
  {
   "cell_type": "markdown",
   "metadata": {},
   "source": [
    "# How can you cancel a form submission through client script?"
   ]
  },
  {
   "cell_type": "markdown",
   "metadata": {},
   "source": [
    "In the onSubmit function return false. function onSubmit() { return false;}   "
   ]
  },
  {
   "cell_type": "markdown",
   "metadata": {},
   "source": [
    "# What is a business rule?"
   ]
  },
  {
   "cell_type": "markdown",
   "metadata": {},
   "source": [
    "Business rule is server-side scripting that executes whenever a record is inserted, updated, deleted, displayed, or queried. The key thing to keep in mind while creating a business rule is that when and on what action it has to execute. You can run the business rule ‘on display’, ‘on before’ or ‘on after’ of an action (insert, delete, update) is performed."
   ]
  },
  {
   "cell_type": "markdown",
   "metadata": {},
   "source": [
    "# Can you call a business rule through a client script"
   ]
  },
  {
   "cell_type": "markdown",
   "metadata": {},
   "source": [
    "Yes you can call a business rule through a client script by using glideajax"
   ]
  },
  {
   "cell_type": "markdown",
   "metadata": {},
   "source": [
    "# What is a glide record?"
   ]
  },
  {
   "cell_type": "markdown",
   "metadata": {},
   "source": [
    "Gliderecord is a java class that is used for database operations instead of writing SQL Queries."
   ]
  },
  {
   "cell_type": "code",
   "execution_count": 23,
   "metadata": {},
   "outputs": [],
   "source": [
    "# What do you mean by data lookup and record matching?"
   ]
  },
  {
   "cell_type": "markdown",
   "metadata": {},
   "source": [
    "Data lookup and record matching feature helps to set a field value based on some conditions instead of writing scripts. For example: on Incident forms, the priority lookup rules sample data automatically sets the incident Priority based on the incident Impact and Urgency values. Data lookup rules allow specifying the conditions and fields where they want data lookups to occur."
   ]
  },
  {
   "cell_type": "markdown",
   "metadata": {},
   "source": [
    "# What is an update set?"
   ]
  },
  {
   "cell_type": "markdown",
   "metadata": {},
   "source": [
    "An updated set is a group of customization.It captures the customization or configuration changes made by a user and then these update sets can be moved from one instance to another. For example, if we made some configuration changes in our development environment and want some changes in our test environment then we can capture all the changes in an updated set and can move this update set to the test environment instead of doing changes manually in a test environment."
   ]
  },
  {
   "cell_type": "markdown",
   "metadata": {},
   "source": [
    "# What is a sys_id?"
   ]
  },
  {
   "cell_type": "markdown",
   "metadata": {},
   "source": [
    "A unique 32-character GUID that identifies each record created in each table in ServiceNow"
   ]
  },
  {
   "cell_type": "code",
   "execution_count": 29,
   "metadata": {},
   "outputs": [],
   "source": [
    "# What are LDAP Integration and its use?"
   ]
  },
  {
   "cell_type": "markdown",
   "metadata": {},
   "source": [
    "LDAP is the Lightweight Directory Access Protocol. It is used for user data population and User authentication. Servicenow integrates with LDAP directory to streamline the user login process and to automate the creation of user and assigning them roles"
   ]
  },
  {
   "cell_type": "markdown",
   "metadata": {},
   "source": [
    "# How to set a field unique on the table"
   ]
  },
  {
   "cell_type": "markdown",
   "metadata": {},
   "source": [
    "Go to that respective field dictionary and set the unique check box to true."
   ]
  },
  {
   "cell_type": "markdown",
   "metadata": {},
   "source": [
    "# What is the data dictionary?"
   ]
  },
  {
   "cell_type": "markdown",
   "metadata": {},
   "source": [
    "Data dictionary defines every table and field in the system. It contains information about a field’s data type, default value, dependency, and other attributes."
   ]
  },
  {
   "cell_type": "markdown",
   "metadata": {},
   "source": [
    "# What happens when a user makes some changes to the homepage?"
   ]
  },
  {
   "cell_type": "markdown",
   "metadata": {},
   "source": [
    "When a user makes some changes on the homepage then that page is saved as his personalized homepage instead of updation on the actual homepage. For example, the home page name is Incident overview. When a user makes some changes to it then this page is saved as My incident overview and is only visible to that user."
   ]
  },
  {
   "cell_type": "markdown",
   "metadata": {},
   "source": [
    "# What role you are required to create/update ACL?"
   ]
  },
  {
   "cell_type": "markdown",
   "metadata": {},
   "source": [
    "security_admin"
   ]
  },
  {
   "cell_type": "markdown",
   "metadata": {},
   "source": [
    "# How you can check on which ServiceNow instance node you are working on?"
   ]
  },
  {
   "cell_type": "markdown",
   "metadata": {},
   "source": [
    "Goto SystemDiagnostic -> Stats. Statistic page will be open where you can get the details of the node and the instance on which you are working on"
   ]
  },
  {
   "cell_type": "markdown",
   "metadata": {},
   "source": [
    "# How to enable or disable the pie chart labels"
   ]
  },
  {
   "cell_type": "markdown",
   "metadata": {},
   "source": [
    "To enable or disable the labels in the pie chart we need to set the property glide.ui.chart.pie.labels to true or false."
   ]
  },
  {
   "cell_type": "code",
   "execution_count": 36,
   "metadata": {},
   "outputs": [],
   "source": [
    "# What is installation exit?"
   ]
  },
  {
   "cell_type": "markdown",
   "metadata": {},
   "source": [
    "Installation exits are customizations that exit from Java to call a script before returning back to Java. Navigate to System Definition > Installation Exits. Some installation exit names (Login, Logout, ValidatePassword, ExternalAuthentication) are reserved and cannot be changed. Other installation exits can override these with a custom script that replaces the script in the default installation exit."
   ]
  },
  {
   "cell_type": "markdown",
   "metadata": {},
   "source": [
    "# What is an import set?"
   ]
  },
  {
   "cell_type": "markdown",
   "metadata": {},
   "source": [
    "Import Sets is a tool used to import data from various data sources and, then using transform map, a map that data into ServiceNow tables. The Import Sets table acts as a staging table for records imported."
   ]
  },
  {
   "cell_type": "markdown",
   "metadata": {},
   "source": [
    "# What is a transform Map?"
   ]
  },
  {
   "cell_type": "markdown",
   "metadata": {},
   "source": [
    "A transform map transforms the record imported into the ServiceNow import set table to the target table. It also determines the relationships between fields displaying in an Import Set table and fields in the target table"
   ]
  },
  {
   "cell_type": "markdown",
   "metadata": {},
   "source": [
    "# What do you mean by Foreign record insert?"
   ]
  },
  {
   "cell_type": "markdown",
   "metadata": {},
   "source": [
    "A foreign record insert occurs when an import makes a change to a table that is not the target table for that import. This happens when updating a reference field on a table."
   ]
  },
  {
   "cell_type": "markdown",
   "metadata": {},
   "source": [
    "# Which searching technique is used to search a text or record in ServiceNow?"
   ]
  },
  {
   "cell_type": "markdown",
   "metadata": {},
   "source": [
    "Zing is the text indexing and search engine that performs all text searches in ServiceNow."
   ]
  },
  {
   "cell_type": "markdown",
   "metadata": {},
   "source": [
    "# What does the Client Transaction Timings plugin do?"
   ]
  },
  {
   "cell_type": "markdown",
   "metadata": {},
   "source": [
    "The Client Transaction Timings plugin enhances the system logs by providing more information on the duration of transactions between the client and the server. By providing information on how time was spent during the transaction, performance issues can be tracked down to the source by seeing where the time is being consumed."
   ]
  },
  {
   "cell_type": "markdown",
   "metadata": {},
   "source": [
    "# What is an inactivity monitor?"
   ]
  },
  {
   "cell_type": "markdown",
   "metadata": {},
   "source": [
    "An inactivity monitor triggers an event for a task record if the task has been inactive for a certain period of time. If the task remains inactive, the monitor repeats at regular intervals."
   ]
  },
  {
   "cell_type": "markdown",
   "metadata": {},
   "source": [
    "# What is domain separation?"
   ]
  },
  {
   "cell_type": "markdown",
   "metadata": {},
   "source": [
    "Domain separation is a way to separate data into (and optionally to separate administration by) logically-defined domains. For example, A client XYZ have two business and they are using ServiceNow single instance for both businesses. They do not want that user’s from one business can see the data from other businesses. Here we can configure domain separation to isolate the records from both businesses."
   ]
  },
  {
   "cell_type": "markdown",
   "metadata": {},
   "source": [
    "# How you can remove the Remember me check box from the login page?"
   ]
  },
  {
   "cell_type": "markdown",
   "metadata": {},
   "source": [
    "You can set the property – “glide.ui.forgetme” to true to remove the Remember me check box from the login page"
   ]
  },
  {
   "cell_type": "markdown",
   "metadata": {},
   "source": [
    "# What is HTML Sanitizer?"
   ]
  },
  {
   "cell_type": "markdown",
   "metadata": {},
   "source": [
    "The HTML sanitizer automatically cleans up HTML markup in HTML fields to remove unwanted code and protect against security concerns such as cross-site scripting attacks. The HTML sanitizer is active for all instances starting with the Eureka release."
   ]
  },
  {
   "cell_type": "markdown",
   "metadata": {},
   "source": [
    "# Which table is used in ServiceNow to audit changes to records?"
   ]
  },
  {
   "cell_type": "markdown",
   "metadata": {},
   "source": [
    "ServiceNow uses the Sys Audit [sys_audit] table to audit changes to records."
   ]
  },
  {
   "cell_type": "markdown",
   "metadata": {},
   "source": [
    "# What is the Schema map?"
   ]
  },
  {
   "cell_type": "markdown",
   "metadata": {},
   "source": [
    "The schema map displays the details of tables and their relationships in a visual manner, allowing administrators to view and easily access different parts of the database schema."
   ]
  },
  {
   "cell_type": "markdown",
   "metadata": {},
   "source": [
    "# What is a dashboard?"
   ]
  },
  {
   "cell_type": "markdown",
   "metadata": {},
   "source": [
    "The dashboard is a visual collection of reports and paralytics presented as KPI scorecards and indicator summary tab."
   ]
  },
  {
   "cell_type": "markdown",
   "metadata": {},
   "source": [
    "# What is the scorecard?"
   ]
  },
  {
   "cell_type": "markdown",
   "metadata": {},
   "source": [
    "A scorecard can be used to measure the performance of an employee or a business process. It is a graphical representation of progress over time. A scorecard belongs to an indicator. The first step is to define the indicators that you want to measure. Scorecards can be enhanced by adding targets, breakdowns (scores per group), aggregates (counts, sums, and maximums), and time series (totals and averages)."
   ]
  },
  {
   "cell_type": "markdown",
   "metadata": {},
   "source": [
    "# What do you mean by indicators in performance analytics in ServiceNow"
   ]
  },
  {
   "cell_type": "markdown",
   "metadata": {},
   "source": [
    "Indicators, also known as metrics, business metrics, or KPIs, are statistics that businesses track to measure current conditions and to forecast business trends."
   ]
  },
  {
   "cell_type": "markdown",
   "metadata": {},
   "source": [
    "# How to set the default value of a date field to the current date-time value?"
   ]
  },
  {
   "cell_type": "markdown",
   "metadata": {},
   "source": [
    "Goto the dictionary of the respective date-time field and set the default value as javascript: gs.now DateTime();"
   ]
  },
  {
   "cell_type": "markdown",
   "metadata": {},
   "source": [
    "# What is client transaction timing?"
   ]
  },
  {
   "cell_type": "markdown",
   "metadata": {},
   "source": [
    "Client transaction timing provides more information on the duration of transactions between the client and the server. This requires to activate the plugin – “Client transaction timing plugin”."
   ]
  },
  {
   "cell_type": "markdown",
   "metadata": {},
   "source": [
    "# What is the set workflow(e) function does?"
   ]
  },
  {
   "cell_type": "markdown",
   "metadata": {},
   "source": [
    "set workflow(e) enables or disables the running of business rules that might normally be triggered by subsequent actions. If the e parameter is set to false, an insert/update will not be audited. Auditing only happens when the parameter is set to true for a GlideRecord operation.\n",
    "Parameters:\n",
    "e – A boolean variable that if true (default) enables business rules, and if false to disables them."
   ]
  },
  {
   "cell_type": "markdown",
   "metadata": {},
   "source": [
    "# What the setForceUpdate() function does?"
   ]
  },
  {
   "cell_type": "markdown",
   "metadata": {},
   "source": [
    "setForceUpdate() updates the record even if there are no changes on the record."
   ]
  },
  {
   "cell_type": "markdown",
   "metadata": {},
   "source": [
    "# What is the significance of the set limit(n) function."
   ]
  },
  {
   "cell_type": "markdown",
   "metadata": {},
   "source": [
    "set limit(n) functions limits the number of records to query by Gliderecord()."
   ]
  },
  {
   "cell_type": "markdown",
   "metadata": {},
   "source": [
    "# Can you update a record without updating its system fields(like sys_updated_by, sys_updated_on)?"
   ]
  },
  {
   "cell_type": "markdown",
   "metadata": {},
   "source": [
    "Yes, you can do it by using a function autoSysFields() in your server-side scripting. Whenever you are updating a record set the autoSysFields() to false.\n",
    "example:\n",
    "\n",
    "var gr = new GlideRecord(‘incident’);\n",
    "\n",
    "gr.query();\n",
    "\n",
    "if(gr.next()){\n",
    "\n",
    "gr.autoSysFields(false);\n",
    "\n",
    "short_description = “Test from Examsmyntra” ;\n",
    "\n",
    "gr.update();\n",
    "\n",
    "}"
   ]
  },
  {
   "cell_type": "markdown",
   "metadata": {},
   "source": [
    "# How to get the row count in a glide record?"
   ]
  },
  {
   "cell_type": "markdown",
   "metadata": {},
   "source": [
    "By using the getRowCount() function you can retrieve the number of rows."
   ]
  },
  {
   "cell_type": "markdown",
   "metadata": {},
   "source": [
    "# What is the difference between deleteMultiple() and deleteRecord()"
   ]
  },
  {
   "cell_type": "markdown",
   "metadata": {},
   "source": [
    "delete multiple() deletes multiple records according to the current “where” clause. Do not delete attachments, whereas delete record() deletes the single record."
   ]
  },
  {
   "cell_type": "markdown",
   "metadata": {},
   "source": [
    "# How to restrict users to upload an attachment in ServiceNow"
   ]
  },
  {
   "cell_type": "markdown",
   "metadata": {},
   "source": [
    "Following is the stepwise step process:\n",
    "Navigate to System Properties > Security.\n",
    "In the Attachment limits and behavior section, locate the List of roles (comma-separated) that can create attachments: property (glide.attachment.role).\n",
    "Enter one or more roles separated by commas.\n",
    "Only roles listed in this property are able to upload attachments to a record. If no roles are entered, then all roles can upload attachments to ServiceNow forms.\n",
    "Click Save."
   ]
  },
  {
   "cell_type": "markdown",
   "metadata": {},
   "source": [
    "# How to disable attachment on a specific ServiceNow table?"
   ]
  },
  {
   "cell_type": "markdown",
   "metadata": {},
   "source": [
    "Go to the dictionary of that table and add “Add no_attachment” to the Attributes field."
   ]
  },
  {
   "cell_type": "code",
   "execution_count": null,
   "metadata": {},
   "outputs": [],
   "source": []
  }
 ],
 "metadata": {
  "kernelspec": {
   "display_name": "Python 3",
   "language": "python",
   "name": "python3"
  },
  "language_info": {
   "codemirror_mode": {
    "name": "ipython",
    "version": 3
   },
   "file_extension": ".py",
   "mimetype": "text/x-python",
   "name": "python",
   "nbconvert_exporter": "python",
   "pygments_lexer": "ipython3",
   "version": "3.7.6"
  }
 },
 "nbformat": 4,
 "nbformat_minor": 4
}
